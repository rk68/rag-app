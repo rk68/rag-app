{
 "cells": [
  {
   "cell_type": "code",
   "execution_count": 1,
   "id": "bf23659e",
   "metadata": {},
   "outputs": [],
   "source": [
    "import pandas as pd"
   ]
  },
  {
   "cell_type": "code",
   "execution_count": 8,
   "id": "141283da",
   "metadata": {},
   "outputs": [
    {
     "data": {
      "text/plain": [
       "question    970\n",
       "answer      970\n",
       "dtype: int64"
      ]
     },
     "execution_count": 8,
     "metadata": {},
     "output_type": "execute_result"
    }
   ],
   "source": [
    "df = pd.read_csv('cleaned_qa_dataset.csv')\n",
    "df.count()"
   ]
  },
  {
   "cell_type": "code",
   "execution_count": 15,
   "id": "5692e3c5",
   "metadata": {},
   "outputs": [
    {
     "data": {
      "text/plain": [
       "question    180\n",
       "answer      180\n",
       "dtype: int64"
      ]
     },
     "execution_count": 15,
     "metadata": {},
     "output_type": "execute_result"
    }
   ],
   "source": [
    "cleaned_df = df.drop_duplicates(subset='answer', keep='first')\n",
    "cleaned_df.count()"
   ]
  },
  {
   "cell_type": "code",
   "execution_count": 17,
   "id": "729df82e",
   "metadata": {},
   "outputs": [],
   "source": [
    "cleaned_df.to_csv('qa_dataset.csv')"
   ]
  },
  {
   "cell_type": "code",
   "execution_count": 12,
   "id": "9b6ab8e8",
   "metadata": {},
   "outputs": [
    {
     "data": {
      "text/html": [
       "<div>\n",
       "<style scoped>\n",
       "    .dataframe tbody tr th:only-of-type {\n",
       "        vertical-align: middle;\n",
       "    }\n",
       "\n",
       "    .dataframe tbody tr th {\n",
       "        vertical-align: top;\n",
       "    }\n",
       "\n",
       "    .dataframe thead th {\n",
       "        text-align: right;\n",
       "    }\n",
       "</style>\n",
       "<table border=\"1\" class=\"dataframe\">\n",
       "  <thead>\n",
       "    <tr style=\"text-align: right;\">\n",
       "      <th></th>\n",
       "      <th>question</th>\n",
       "      <th>answer</th>\n",
       "    </tr>\n",
       "  </thead>\n",
       "  <tbody>\n",
       "    <tr>\n",
       "      <th>0</th>\n",
       "      <td>Can an employer or agency use an automated emp...</td>\n",
       "      <td>No, the law requires notification about the jo...</td>\n",
       "    </tr>\n",
       "    <tr>\n",
       "      <th>1</th>\n",
       "      <td>What are the notification requirements of loca...</td>\n",
       "      <td>Under Local LAw 144, any employer or employmen...</td>\n",
       "    </tr>\n",
       "    <tr>\n",
       "      <th>2</th>\n",
       "      <td>Can imputed or inferred data be used for a bia...</td>\n",
       "      <td>No, historical data must be used, but if there...</td>\n",
       "    </tr>\n",
       "    <tr>\n",
       "      <th>3</th>\n",
       "      <td>What is the responsibility of an employer or e...</td>\n",
       "      <td>The employer or agency must provide informatio...</td>\n",
       "    </tr>\n",
       "    <tr>\n",
       "      <th>4</th>\n",
       "      <td>What information must be made publicly availab...</td>\n",
       "      <td>Before the use of an AEDT, an employer or empl...</td>\n",
       "    </tr>\n",
       "    <tr>\n",
       "      <th>...</th>\n",
       "      <td>...</td>\n",
       "      <td>...</td>\n",
       "    </tr>\n",
       "    <tr>\n",
       "      <th>965</th>\n",
       "      <td>Under what circumstances can an employer or ag...</td>\n",
       "      <td>Information disclosure can be refused if it wo...</td>\n",
       "    </tr>\n",
       "    <tr>\n",
       "      <th>966</th>\n",
       "      <td>What criteria must an independent auditor meet...</td>\n",
       "      <td>An auditor must not be involved in using, deve...</td>\n",
       "    </tr>\n",
       "    <tr>\n",
       "      <th>967</th>\n",
       "      <td>What is the definition of an automated employm...</td>\n",
       "      <td>An automated employment decision tool is any c...</td>\n",
       "    </tr>\n",
       "    <tr>\n",
       "      <th>968</th>\n",
       "      <td>How can an employer or employment agency compl...</td>\n",
       "      <td>Compliance can be achieved by providing notice...</td>\n",
       "    </tr>\n",
       "    <tr>\n",
       "      <th>969</th>\n",
       "      <td>Can employers use test data for a bias audit i...</td>\n",
       "      <td>Yes, employers can use test data if there is i...</td>\n",
       "    </tr>\n",
       "  </tbody>\n",
       "</table>\n",
       "<p>970 rows × 2 columns</p>\n",
       "</div>"
      ],
      "text/plain": [
       "                                              question  \\\n",
       "0    Can an employer or agency use an automated emp...   \n",
       "1    What are the notification requirements of loca...   \n",
       "2    Can imputed or inferred data be used for a bia...   \n",
       "3    What is the responsibility of an employer or e...   \n",
       "4    What information must be made publicly availab...   \n",
       "..                                                 ...   \n",
       "965  Under what circumstances can an employer or ag...   \n",
       "966  What criteria must an independent auditor meet...   \n",
       "967  What is the definition of an automated employm...   \n",
       "968  How can an employer or employment agency compl...   \n",
       "969  Can employers use test data for a bias audit i...   \n",
       "\n",
       "                                                answer  \n",
       "0    No, the law requires notification about the jo...  \n",
       "1    Under Local LAw 144, any employer or employmen...  \n",
       "2    No, historical data must be used, but if there...  \n",
       "3    The employer or agency must provide informatio...  \n",
       "4    Before the use of an AEDT, an employer or empl...  \n",
       "..                                                 ...  \n",
       "965  Information disclosure can be refused if it wo...  \n",
       "966  An auditor must not be involved in using, deve...  \n",
       "967  An automated employment decision tool is any c...  \n",
       "968  Compliance can be achieved by providing notice...  \n",
       "969  Yes, employers can use test data if there is i...  \n",
       "\n",
       "[970 rows x 2 columns]"
      ]
     },
     "execution_count": 12,
     "metadata": {},
     "output_type": "execute_result"
    }
   ],
   "source": [
    "duplicates = df[df.duplicated(subset='question', keep=False)]\n",
    "duplicates"
   ]
  },
  {
   "cell_type": "code",
   "execution_count": null,
   "id": "5a92c6fc",
   "metadata": {},
   "outputs": [],
   "source": []
  }
 ],
 "metadata": {
  "kernelspec": {
   "display_name": "Python 3 (ipykernel)",
   "language": "python",
   "name": "python3"
  },
  "language_info": {
   "codemirror_mode": {
    "name": "ipython",
    "version": 3
   },
   "file_extension": ".py",
   "mimetype": "text/x-python",
   "name": "python",
   "nbconvert_exporter": "python",
   "pygments_lexer": "ipython3",
   "version": "3.11.5"
  }
 },
 "nbformat": 4,
 "nbformat_minor": 5
}
